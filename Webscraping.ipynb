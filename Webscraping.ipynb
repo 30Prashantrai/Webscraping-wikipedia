{
 "cells": [
  {
   "cell_type": "code",
   "execution_count": 6,
   "id": "13d1a07a",
   "metadata": {},
   "outputs": [
    {
     "name": "stdout",
     "output_type": "stream",
     "text": [
      "done\n"
     ]
    }
   ],
   "source": [
    "import requests\n",
    "from bs4 import BeautifulSoup\n",
    "import html5lib\n",
    "\n",
    "url = \"https://en.wikipedia.org/wiki/Bible\"\n",
    "r = requests.get(url)\n",
    "\n",
    "\n",
    "# print(r.content)\n",
    "\n",
    "         \n",
    "s = BeautifulSoup(r.content,\"html5lib\")\n",
    "data = s.find(\"div\",attrs={\"id\":\"mw-content-text\"})\n",
    "\n",
    "f = open(\"./bible_wiki.txt\",'w')\n",
    "f.close()\n",
    "# print(data)\n",
    "         \n",
    "with open(\"./bible_wiki.txt\",\"a\",encoding = \"utf-8\") as fl:\n",
    "         for d in data.findAll(\"p\"):\n",
    "             fl.write(\"%s\\n\"%(d.text))\n",
    "print(\"done\")"
   ]
  },
  {
   "cell_type": "code",
   "execution_count": null,
   "id": "aa5f0e1c",
   "metadata": {},
   "outputs": [],
   "source": [
    "\n"
   ]
  }
 ],
 "metadata": {
  "kernelspec": {
   "display_name": "Python 3 (ipykernel)",
   "language": "python",
   "name": "python3"
  },
  "language_info": {
   "codemirror_mode": {
    "name": "ipython",
    "version": 3
   },
   "file_extension": ".py",
   "mimetype": "text/x-python",
   "name": "python",
   "nbconvert_exporter": "python",
   "pygments_lexer": "ipython3",
   "version": "3.9.13"
  }
 },
 "nbformat": 4,
 "nbformat_minor": 5
}
